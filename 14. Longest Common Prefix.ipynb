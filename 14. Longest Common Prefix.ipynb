{
 "cells": [
  {
   "cell_type": "markdown",
   "metadata": {},
   "source": [
    "# 14. Longest Common Prefix\n",
    "[Leetcode link for this question](https://leetcode.com/problems/longest-common-prefix/)\n",
    "## Discription: \n",
    "Write a function to find the longest common prefix string amongst an array of strings.\n",
    "## Analyze:"
   ]
  },
  {
   "cell_type": "markdown",
   "metadata": {},
   "source": [
    "## Code 1:"
   ]
  },
  {
   "cell_type": "code",
   "execution_count": 8,
   "metadata": {
    "collapsed": true
   },
   "outputs": [],
   "source": [
    "class Solution(object):\n",
    "    def longestCommonPrefix(self, strs):\n",
    "        \"\"\"\n",
    "        :type strs: List[str]\n",
    "        :rtype: str\n",
    "        \"\"\"\n",
    "        if not strs:\n",
    "            return \"\"\n",
    "        if not strs[0]:\n",
    "            return \"\"\n",
    "        l=0\n",
    "        tmp=strs[0][l]\n",
    "        while 1:\n",
    "            for i in strs:\n",
    "                if l>=len(i):\n",
    "                    return strs[0][0:l]\n",
    "                if i[l] !=tmp:\n",
    "                    return strs[0][0:l]\n",
    "            l+=1\n",
    "            if l>=len(strs[0]):\n",
    "                    return strs[0][0:l]\n",
    "            tmp=strs[0][l]\n",
    "        return strs[0][0:l+1]"
   ]
  },
  {
   "cell_type": "markdown",
   "metadata": {},
   "source": [
    "### Submission Result:\n",
    "Status: Accepted  \n",
    "Runtime: 52 ms  \n",
    "Ranking: beats 73.43% "
   ]
  }
 ],
 "metadata": {
  "kernelspec": {
   "display_name": "Python 2",
   "language": "python",
   "name": "python2"
  },
  "language_info": {
   "codemirror_mode": {
    "name": "ipython",
    "version": 2
   },
   "file_extension": ".py",
   "mimetype": "text/x-python",
   "name": "python",
   "nbconvert_exporter": "python",
   "pygments_lexer": "ipython2",
   "version": "2.7.10"
  }
 },
 "nbformat": 4,
 "nbformat_minor": 0
}
