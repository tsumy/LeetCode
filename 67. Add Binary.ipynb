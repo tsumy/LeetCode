{
 "cells": [
  {
   "cell_type": "markdown",
   "metadata": {},
   "source": [
    "# 67. Add Binary\n",
    "[Leetcode link for this question](https://leetcode.com/problems/add-binary/)\n",
    "## Discription: \n",
    "Given two binary strings, return their sum (also a binary string).\n",
    "\n",
    "For example,\n",
    "a = \"11\"\n",
    "b = \"1\"\n",
    "Return \"100\"."
   ]
  },
  {
   "cell_type": "markdown",
   "metadata": {},
   "source": [
    "## Code 1:"
   ]
  },
  {
   "cell_type": "code",
   "execution_count": 2,
   "metadata": {
    "collapsed": true
   },
   "outputs": [],
   "source": [
    "class Solution(object):\n",
    "    def addBinary(self, a, b):\n",
    "        \"\"\"\n",
    "        :type a: str\n",
    "        :type b: str\n",
    "        :rtype: str\n",
    "        \"\"\"\n",
    "        la =len(a)\n",
    "        lb=len(b)\n",
    "        if la<lb:\n",
    "            return self.addBinary(b,a)\n",
    "        b='0'*(la-lb)+b\n",
    "        carry=0\n",
    "        a=list(a)\n",
    "        for i in range(la-1,-1,-1):\n",
    "            sum=int(a[i])+int(b[i])+carry\n",
    "            if sum==1 or sum==0:\n",
    "                a[i]=str(sum)\n",
    "                carry=0\n",
    "            else:\n",
    "                a[i]=str(sum-2)\n",
    "                carry=1\n",
    "        if carry==1:\n",
    "            return '1'+''.join(a)\n",
    "        return ''.join(a)"
   ]
  },
  {
   "cell_type": "markdown",
   "metadata": {},
   "source": [
    "### Submission Result:\n",
    "Status: Accepted  \n",
    "Runtime: 80 ms  \n",
    "Ranking: beats 22.46% "
   ]
  },
  {
   "cell_type": "markdown",
   "metadata": {},
   "source": [
    "## Code 2（recursive function）:"
   ]
  },
  {
   "cell_type": "code",
   "execution_count": 3,
   "metadata": {
    "collapsed": true
   },
   "outputs": [],
   "source": [
    "class Solution(object):\n",
    "    def addBinary(self, a, b):\n",
    "        \"\"\"\n",
    "        :type a: str\n",
    "        :type b: str\n",
    "        :rtype: str\n",
    "        \"\"\"\n",
    "        if len(a)==0: return b\n",
    "        if len(b)==0: return a\n",
    "        if a[-1] == '1' and b[-1] == '1':\n",
    "            return self.addBinary(self.addBinary(a[0:-1], b[0:-1]), '1') + '0'\n",
    "        else:\n",
    "            return self.addBinary(a[0:-1], b[0:-1]) + str(int(a[-1]) + int(b[-1]))"
   ]
  },
  {
   "cell_type": "markdown",
   "metadata": {},
   "source": [
    "### Submission Result:\n",
    "Status: Accepted  \n",
    "Runtime: 72 ms  \n",
    "Ranking: beats 44.74% "
   ]
  }
 ],
 "metadata": {
  "kernelspec": {
   "display_name": "Python 2",
   "language": "python",
   "name": "python2"
  },
  "language_info": {
   "codemirror_mode": {
    "name": "ipython",
    "version": 2
   },
   "file_extension": ".py",
   "mimetype": "text/x-python",
   "name": "python",
   "nbconvert_exporter": "python",
   "pygments_lexer": "ipython2",
   "version": "2.7.10"
  }
 },
 "nbformat": 4,
 "nbformat_minor": 0
}
