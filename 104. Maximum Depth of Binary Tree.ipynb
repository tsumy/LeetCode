{
 "cells": [
  {
   "cell_type": "markdown",
   "metadata": {},
   "source": [
    "# 104. Maximum Depth of Binary Tree\n",
    "[Leetcode link for this question](https://leetcode.com/problems/maximum-depth-of-binary-tree/)\n",
    "## Discription: \n",
    "Given a binary tree, find its maximum depth.\n",
    "\n",
    "The maximum depth is the number of nodes along the longest path from the root node down to the farthest leaf node.\n",
    "## Analyze:\n"
   ]
  },
  {
   "cell_type": "markdown",
   "metadata": {},
   "source": [
    "## Code 1:"
   ]
  },
  {
   "cell_type": "code",
   "execution_count": 14,
   "metadata": {
    "collapsed": true
   },
   "outputs": [],
   "source": [
    "class Solution(object):\n",
    "    def maxDepth(self,root):\n",
    "        if not root:#逻辑判断\n",
    "            return 0\n",
    "        queue,hei,max_hei=[],1,1\n",
    "        queue.append((root,1))#入队列\n",
    "        while queue:\n",
    "            node,hei=queue.pop(0)#出队列\n",
    "            max_hei=max(max_hei,hei)\n",
    "            if node.left:\n",
    "                queue.append((node.left,hei+1))\n",
    "            if node.right:\n",
    "                queue.append((node.right,hei+1))\n",
    "        max_hei=max(max_hei,hei)\n",
    "        return max_hei\n",
    "    "
   ]
  },
  {
   "cell_type": "markdown",
   "metadata": {},
   "source": [
    "### Submission Result:\n",
    "Status: Accepted  \n",
    "Runtime: 68 ms  \n",
    "Ranking: beats 71.09% "
   ]
  }
 ],
 "metadata": {
  "kernelspec": {
   "display_name": "Python 2",
   "language": "python",
   "name": "python2"
  },
  "language_info": {
   "codemirror_mode": {
    "name": "ipython",
    "version": 2
   },
   "file_extension": ".py",
   "mimetype": "text/x-python",
   "name": "python",
   "nbconvert_exporter": "python",
   "pygments_lexer": "ipython2",
   "version": "2.7.10"
  }
 },
 "nbformat": 4,
 "nbformat_minor": 0
}
