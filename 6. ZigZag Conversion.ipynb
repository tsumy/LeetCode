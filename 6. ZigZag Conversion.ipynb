{
 "cells": [
  {
   "cell_type": "markdown",
   "metadata": {},
   "source": [
    "# 6. ZigZag Conversion\n",
    "[Leetcode link for this question](https://leetcode.com/problems/zigzag-conversion/)\n",
    "## Discription: \n",
    "\n",
    "The string <code>\"PAYPALISHIRING\"</code> is written in a zigzag pattern on a given number of rows like this: (you may want to display this pattern in a fixed font for better legibility)\n",
    "</p><pre>P   A   H   N\n",
    "A P L S I I G\n",
    "Y   I   R\n",
    "</pre>\n",
    "\n",
    "And then read line by line: <code>\"PAHNAPLSIIGYIR\"</code><p></p>\n",
    "\n",
    "<p>\n",
    "Write the code that will take a string and make this conversion given a number of rows:\n",
    "\n",
    "</p><pre>string convert(string text, int nRows);</pre>\n",
    "\n",
    "<code>convert(\"PAYPALISHIRING\", 3)</code> should return <code>\"PAHNAPLSIIGYIR\"</code>.\n",
    "<p></p><p></p>            \n",
    "\n",
    "\n",
    "## Analyze:\n",
    "If nRows=4, text=abcdefghijklmnop\n",
    "<pre> \n",
    "row 1:a   g   m\n",
    "row 2:b f h l n\n",
    "row 3:c e i k o\n",
    "row 4:d   j   p      return row 1 + row 2 + row 3 +row 4 ,i.e. return agm bfhln ceiko djp\n",
    " \n",
    "so,assigned order is：row 1, row 2, row 3, row 4, row 3, row 2, row 1,row 2, row 3 etc.\n",
    "the ith char in text will assigned to the row which NO. is the value of the ith index of the above list. \n",
    "</pre>"
   ]
  },
  {
   "cell_type": "markdown",
   "metadata": {},
   "source": [
    "## Code 1:"
   ]
  },
  {
   "cell_type": "code",
   "execution_count": 1,
   "metadata": {
    "collapsed": true
   },
   "outputs": [],
   "source": [
    "class Solution(object):\n",
    "    def convert(self, s, numRows):\n",
    "        \"\"\"\n",
    "        :type s: str\n",
    "        :type numRows: int\n",
    "        :rtype: str\n",
    "        \"\"\"\n",
    "        if numRows==1:\n",
    "            return s\n",
    "        \n",
    "        li=['']*numRows\n",
    "        po=-1\n",
    "        dir=1\n",
    "        for i in s:\n",
    "            if dir:\n",
    "                po+=1\n",
    "                li[po]=li[po]+i\n",
    "                if po==numRows-1:\n",
    "                    dir=0\n",
    "            else:\n",
    "                po-=1\n",
    "                li[po]=li[po]+i\n",
    "                if po==0:\n",
    "                    dir=1\n",
    "        return ''.join(li)           \n",
    "            "
   ]
  },
  {
   "cell_type": "markdown",
   "metadata": {},
   "source": [
    "### Submission Result:\n",
    "Status: Accepted  \n",
    "Runtime: 112 ms  \n",
    "Ranking: beats <font color=#0099ff size=5 face=\"黑体\">92.15%</font>"
   ]
  }
 ],
 "metadata": {
  "kernelspec": {
   "display_name": "Python 2",
   "language": "python",
   "name": "python2"
  },
  "language_info": {
   "codemirror_mode": {
    "name": "ipython",
    "version": 2
   },
   "file_extension": ".py",
   "mimetype": "text/x-python",
   "name": "python",
   "nbconvert_exporter": "python",
   "pygments_lexer": "ipython2",
   "version": "2.7.10"
  }
 },
 "nbformat": 4,
 "nbformat_minor": 0
}
