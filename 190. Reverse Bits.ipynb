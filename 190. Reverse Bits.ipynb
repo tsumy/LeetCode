{
 "cells": [
  {
   "cell_type": "markdown",
   "metadata": {},
   "source": [
    "# 190. Reverse Bits\n",
    "[Leetcode link for this question](https://leetcode.com/problems/reverse-bits/)\n",
    "## Discription: \n",
    "Reverse bits of a given 32 bits unsigned integer.\n",
    "\n",
    "For example, given input 43261596 (represented in binary as 00000010100101000001111010011100), return 964176192 (represented in binary as 00111001011110000010100101000000).\n",
    "\n",
    "Follow up:\n",
    "If this function is called many times, how would you optimize it?\n",
    "## Analyze:\n"
   ]
  },
  {
   "cell_type": "markdown",
   "metadata": {},
   "source": [
    "## Code 1:"
   ]
  },
  {
   "cell_type": "code",
   "execution_count": 2,
   "metadata": {
    "collapsed": true
   },
   "outputs": [],
   "source": [
    "class Solution(object):\n",
    "    def reverseBits(self, n):\n",
    "        \"\"\"\n",
    "        :type n: int\n",
    "        :rtype: int\n",
    "        \"\"\"\n",
    "        bi=str(bin(n))[2:]\n",
    "        bi='0'*(32-len(bi))+bi      \n",
    "        s=0 \n",
    "        wei=1\n",
    "        for i in bi:                                 \n",
    "            s=int(i)*wei+s\n",
    "            wei*=2\n",
    "        return s"
   ]
  },
  {
   "cell_type": "markdown",
   "metadata": {},
   "source": [
    "### Submission Result:\n",
    "Status: Accepted  \n",
    "Runtime: 68 ms  \n",
    "Ranking: beats 31.14% "
   ]
  },
  {
   "cell_type": "markdown",
   "metadata": {},
   "source": [
    "## Code 2:"
   ]
  },
  {
   "cell_type": "code",
   "execution_count": 3,
   "metadata": {
    "collapsed": true
   },
   "outputs": [],
   "source": [
    "class Solution(object):\n",
    "    def reverseBits(self, n):\n",
    "        \"\"\"\n",
    "        :type n: int\n",
    "        :rtype: int\n",
    "        \"\"\"\n",
    "        for i in range(16):\n",
    "            j=32-i-1\n",
    "            if i>j:\n",
    "                break\n",
    "            bi=(n>>i)&1\n",
    "            bj=(n>>j)&1\n",
    "            if bi^bj:          \n",
    "                n=n^(1<<i)^(1<<j)\n",
    "        return n"
   ]
  },
  {
   "cell_type": "markdown",
   "metadata": {},
   "source": [
    "### Submission Result:\n",
    "Status: Accepted  \n",
    "Runtime: 72 ms  \n",
    "Ranking: beats 21.27% "
   ]
  },
  {
   "cell_type": "code",
   "execution_count": null,
   "metadata": {
    "collapsed": true
   },
   "outputs": [],
   "source": []
  }
 ],
 "metadata": {
  "kernelspec": {
   "display_name": "Python 2",
   "language": "python",
   "name": "python2"
  },
  "language_info": {
   "codemirror_mode": {
    "name": "ipython",
    "version": 2
   },
   "file_extension": ".py",
   "mimetype": "text/x-python",
   "name": "python",
   "nbconvert_exporter": "python",
   "pygments_lexer": "ipython2",
   "version": "2.7.10"
  }
 },
 "nbformat": 4,
 "nbformat_minor": 0
}
