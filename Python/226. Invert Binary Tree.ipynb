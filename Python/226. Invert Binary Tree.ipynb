{
 "cells": [
  {
   "cell_type": "markdown",
   "metadata": {},
   "source": [
    "# 226. Invert Binary Tree\n",
    "[Leetcode link for this question](https://leetcode.com/problems/invert-binary-tree/)\n",
    "## Discription: \n",
    "Invert a binary tree.\n",
    "\n",
    "     4\n",
    "   /   \\\n",
    "  2     7\n",
    " / \\   / \\\n",
    "1   3 6   9\n",
    "to\n",
    "     4\n",
    "   /   \\\n",
    "  7     2\n",
    " / \\   / \\\n",
    "9   6 3   1"
   ]
  },
  {
   "cell_type": "markdown",
   "metadata": {},
   "source": [
    "## Analyze:\n",
    "\n",
    "## Code 1:"
   ]
  },
  {
   "cell_type": "code",
   "execution_count": 3,
   "metadata": {
    "collapsed": true
   },
   "outputs": [],
   "source": [
    "#Definition for a binary tree node.\n",
    "class TreeNode(object):\n",
    "    def __init__(self, x):\n",
    "        self.val = x\n",
    "        self.left = None\n",
    "        self.right = None"
   ]
  },
  {
   "cell_type": "code",
   "execution_count": 4,
   "metadata": {
    "collapsed": true
   },
   "outputs": [],
   "source": [
    "#Generate a binary tree by a list ( like, [1,2,None,4,5,6,None,8,9,10,11,12] ) and return the root node.   \n",
    "def gen_Tree(val_list):\n",
    "        if not val_list:\n",
    "            return \n",
    "        root=TreeNode(val_list.pop(0))\n",
    "        #print root.val\n",
    "        le_list=[root]\n",
    "        while val_list:\n",
    "            tmp=le_list.pop(0)\n",
    "            if val_list:\n",
    "                tmp.left=TreeNode(val_list.pop(0))\n",
    "                if tmp.left.val!=None:\n",
    "                    le_list.append(tmp.left)\n",
    "            if val_list:\n",
    "                tmp.right=TreeNode(val_list.pop(0))\n",
    "                if tmp.right.val!=None:\n",
    "                    le_list.append(tmp.right)\n",
    "            else:\n",
    "                return root\n",
    "        return root"
   ]
  },
  {
   "cell_type": "code",
   "execution_count": 5,
   "metadata": {
    "collapsed": true
   },
   "outputs": [],
   "source": [
    "# print the tree by level\n",
    "def show_Tree(root):\n",
    "    def print_fun(le):\n",
    "        for i in le:\n",
    "            if i!=None:\n",
    "                print i.val,\n",
    "            else:\n",
    "                print 'None',\n",
    "        print ''\n",
    "    cur_le=[root]\n",
    "    next_le=[]\n",
    "    print_fun(cur_le)\n",
    "    while cur_le:        \n",
    "        tmp=cur_le.pop(0)\n",
    "        if tmp!=None:# and tmp.val!=None:\n",
    "            if tmp.left:\n",
    "                next_le.append(tmp.left)\n",
    "            else:\n",
    "                next_le.append(None)\n",
    "            if tmp.right:\n",
    "                next_le.append(tmp.right)\n",
    "            else:\n",
    "                next_le.append(None)\n",
    "        if not cur_le:\n",
    "            cur_le=next_le\n",
    "            print_fun(cur_le)\n",
    "            next_le=[]\n",
    "            if not cur_le:\n",
    "                break            \n",
    "    return"
   ]
  },
  {
   "cell_type": "markdown",
   "metadata": {},
   "source": [
    "###Solution code"
   ]
  },
  {
   "cell_type": "code",
   "execution_count": 6,
   "metadata": {
    "collapsed": true
   },
   "outputs": [],
   "source": [
    "class Solution(object):\n",
    "    def invertTree(self, root):\n",
    "        \"\"\"\n",
    "        :type root: TreeNode\n",
    "        :rtype: TreeNode\n",
    "        \"\"\"\n",
    "        if root:\n",
    "            root.right,root.left=root.left,root.right\n",
    "            self.invertTree(root.left)\n",
    "            self.invertTree(root.right)\n",
    "        return root"
   ]
  },
  {
   "cell_type": "code",
   "execution_count": 7,
   "metadata": {
    "collapsed": false
   },
   "outputs": [
    {
     "name": "stdout",
     "output_type": "stream",
     "text": [
      "1 \n",
      "2 None \n",
      "4 5 None None \n",
      "6 None 8 9 \n",
      "10 11 None None 12 None None None \n",
      "None None None None None None \n",
      "\n"
     ]
    }
   ],
   "source": [
    "root=gen_Tree([1,2,None,4,5,6,None,8,9,10,11,12])\n",
    "show_Tree(root)"
   ]
  },
  {
   "cell_type": "code",
   "execution_count": 8,
   "metadata": {
    "collapsed": false
   },
   "outputs": [
    {
     "name": "stdout",
     "output_type": "stream",
     "text": [
      "1 \n",
      "None 2 \n",
      "None None 5 4 \n",
      "9 8 None 6 \n",
      "None None None 12 None None 11 10 \n",
      "None None None None None None \n",
      "\n"
     ]
    }
   ],
   "source": [
    "s=Solution()\n",
    "root=s.invertTree(root)\n",
    "show_Tree(root)"
   ]
  },
  {
   "cell_type": "markdown",
   "metadata": {},
   "source": [
    "### Submission Result:\n",
    "Status: Accepted  \n",
    "Runtime: 44 ms  \n",
    "Ranking: beats 79.29% "
   ]
  }
 ],
 "metadata": {
  "kernelspec": {
   "display_name": "Python 2",
   "language": "python",
   "name": "python2"
  },
  "language_info": {
   "codemirror_mode": {
    "name": "ipython",
    "version": 2
   },
   "file_extension": ".py",
   "mimetype": "text/x-python",
   "name": "python",
   "nbconvert_exporter": "python",
   "pygments_lexer": "ipython2",
   "version": "2.7.10"
  }
 },
 "nbformat": 4,
 "nbformat_minor": 0
}
