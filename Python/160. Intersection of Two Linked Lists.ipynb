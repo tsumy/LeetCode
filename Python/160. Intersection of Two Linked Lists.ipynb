{
 "cells": [
  {
   "cell_type": "markdown",
   "metadata": {},
   "source": [
    "# 160. Intersection of Two Linked Lists\n",
    "[Leetcode link for this question](https://leetcode.com/problems/intersection-of-two-linked-lists/)\n",
    "## Discription: \n",
    "Write a program to find the node at which the intersection of two singly linked lists begins.\n",
    "\n",
    "\n",
    "For example, the following two linked lists:\n",
    "\n",
    "A: &emsp;&emsp;   a1 → a2  \n",
    "&emsp;&emsp;&emsp;&emsp;&emsp;&emsp;&emsp;↘  \n",
    "&emsp;&emsp;&emsp;&emsp;&emsp;&emsp;&emsp;&emsp;c1 → c2 → c3  \n",
    "&emsp;&emsp;&emsp;&emsp;&emsp;&emsp;  &emsp; ↗            \n",
    "B:     b1 → b2 → b3  \n",
    "begin to intersect at node c1.\n",
    "\n",
    "\n",
    "Notes:\n",
    "\n",
    "- If the two linked lists have no intersection at all, return null.  \n",
    "- The linked lists must retain their original structure after the function returns.  \n",
    "- You may assume there are no cycles anywhere in the entire linked structure.  \n",
    "- Your code should preferably run in O(n) time and use only O(1) memory.  \n",
    "\n",
    "## Analyze:\n",
    "Let list a is 1 → 2 → 3 → 4 → 5 → 6 → 7 and list b is 1 → 2 → 5 → 6 → 7 , they have different lengths.  \n",
    "Note that new list A which is a joined with b and new list B which is b joined with a have the same lengths.  \n",
    "A:1 → 2 → 3 → 4 → 5 → 6 → 7 → 1 → 2 → 5 → 6 → 7  \n",
    "B:1 → 2 → 5 → 6 → 7 → 1 → 2 → 3 → 4 → 5 → 6 → 7  \n",
    "There are two kinds of situations：\n",
    "- If a and b have intersection, then A and B will have some same node at the end of the list.Like above case, A and B have the same nodes 5 → 6 → 7   \n",
    "- If a and b have no intersection at all, like a is 1 → 2 → 3 → 4 → 5  and b is 6 → 7 → 8 → 9.   \n",
    "A:1 → 2 → 3 → 4 → 5 → 6 → 7 → 8 → 9  \n",
    "B:6 → 7 → 8 → 9 → 1 → 2 → 3 → 4 → 5 &emsp;&emsp;&emsp;In this case, A and B have no same node.  \n",
    "\n",
    "Therefore, the original problem convert to a easy one: whether A and B linked list have same node, where A and B have same lengths."
   ]
  },
  {
   "cell_type": "code",
   "execution_count": 10,
   "metadata": {
    "collapsed": true
   },
   "outputs": [],
   "source": [
    "#Definition for singly-linked list.\n",
    "class ListNode(object):\n",
    "    def __init__(self, x):\n",
    "        self.val = x\n",
    "        self.next = None\n",
    "#Generate a linked list by a list and return the head node\n",
    "def gen_ListNode(li):\n",
    "    if not li:\n",
    "        return None\n",
    "    head=ListNode(li.pop(0))\n",
    "    tmp=head\n",
    "    while li:\n",
    "            tmp.next=ListNode(li.pop(0))\n",
    "            tmp=tmp.next\n",
    "    return head\n",
    "#Print a linked list from head to tail\n",
    "def show_List(head):\n",
    "    if not head:\n",
    "        print empty\n",
    "    while head:\n",
    "        print head.val,\n",
    "        if head.next:\n",
    "            print '→',\n",
    "        head=head.next\n",
    "    print "
   ]
  },
  {
   "cell_type": "code",
   "execution_count": 11,
   "metadata": {
    "collapsed": false
   },
   "outputs": [
    {
     "name": "stdout",
     "output_type": "stream",
     "text": [
      "1 → 2 → 3 → 4 → 5 → 6 → 7\n"
     ]
    }
   ],
   "source": [
    "head=gen_ListNode([1,2,3,4,5,6,7])\n",
    "show_List(head)"
   ]
  },
  {
   "cell_type": "markdown",
   "metadata": {},
   "source": [
    "## Code 1:"
   ]
  },
  {
   "cell_type": "code",
   "execution_count": 12,
   "metadata": {
    "collapsed": true
   },
   "outputs": [],
   "source": [
    "class Solution(object):\n",
    "    def getIntersectionNode(self, headA, headB):\n",
    "        \"\"\"\n",
    "        :type head1, head1: ListNode\n",
    "        :rtype: ListNode\n",
    "        \"\"\"\n",
    "        if not headA or not headB:\n",
    "            return None\n",
    "        pa,pb=headA,headB\n",
    "        while pa is not pb:\n",
    "            if pa:\n",
    "                pa=pa.next\n",
    "            else:\n",
    "                pa=headB\n",
    "            if pb:\n",
    "                pb=pb.next\n",
    "            else:\n",
    "                pb=headA\n",
    "        return pa"
   ]
  },
  {
   "cell_type": "markdown",
   "metadata": {},
   "source": [
    "### Submission Result:\n",
    "Status: Accepted  \n",
    "Runtime: 420 ms  \n",
    "Ranking: beats 25.27% "
   ]
  }
 ],
 "metadata": {
  "kernelspec": {
   "display_name": "Python 2",
   "language": "python",
   "name": "python2"
  },
  "language_info": {
   "codemirror_mode": {
    "name": "ipython",
    "version": 2
   },
   "file_extension": ".py",
   "mimetype": "text/x-python",
   "name": "python",
   "nbconvert_exporter": "python",
   "pygments_lexer": "ipython2",
   "version": "2.7.10"
  }
 },
 "nbformat": 4,
 "nbformat_minor": 0
}
