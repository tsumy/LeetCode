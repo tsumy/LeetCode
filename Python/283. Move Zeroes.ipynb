{
 "cells": [
  {
   "cell_type": "markdown",
   "metadata": {},
   "source": [
    "# 283. Move Zeroes\n",
    "[Leetcode link for this question](https://leetcode.com/problems/move-zeroes/)\n",
    "## Discription: \n",
    "Given an array nums, write a function to move all 0's to the end of it while maintaining the relative order of the non-zero elements.\n",
    "\n",
    "For example, given nums = [0, 1, 0, 3, 12], after calling your function, nums should be [1, 3, 12, 0, 0].\n",
    "\n",
    "Note:\n",
    "You must do this in-place without making a copy of the array.\n",
    "Minimize the total number of operations."
   ]
  },
  {
   "cell_type": "markdown",
   "metadata": {},
   "source": [
    "## Analyze:\n",
    "\n",
    "## Code 1:"
   ]
  },
  {
   "cell_type": "code",
   "execution_count": 1,
   "metadata": {
    "collapsed": true
   },
   "outputs": [],
   "source": [
    "class Solution(object):\n",
    "    def moveZeroes(self, nums):\n",
    "        \"\"\"\n",
    "        :type nums: List[int]\n",
    "        :rtype: void Do not return anything, modify nums in-place instead.\n",
    "        \"\"\"\n",
    "\n",
    "        count = nums.count(0)\n",
    "        for i in range(count):\n",
    "            nums.remove(0)\n",
    "            nums.append(0)"
   ]
  },
  {
   "cell_type": "markdown",
   "metadata": {},
   "source": [
    "### Submission Result:\n",
    "Status: Accepted  \n",
    "Runtime: 132 ms  \n",
    "Ranking: beats 21.69% "
   ]
  },
  {
   "cell_type": "markdown",
   "metadata": {},
   "source": [
    "## Analyze:\n",
    "\n",
    "## Code 2:"
   ]
  },
  {
   "cell_type": "code",
   "execution_count": 15,
   "metadata": {
    "collapsed": true
   },
   "outputs": [],
   "source": [
    "class Solution(object):\n",
    "    def moveZeroes(self, nums):\n",
    "        \"\"\"\n",
    "        :type nums: List[int]\n",
    "        :rtype: void Do not return anything, modify nums in-place instead.\n",
    "        \"\"\"\n",
    "        po,non_zero=0,0\n",
    "        while(non_zero<len(nums)):   \n",
    "            if(nums[non_zero]!=0):\n",
    "                nums[po],nums[non_zero]=nums[non_zero],nums[po]\n",
    "                po+=1\n",
    "            non_zero+=1        "
   ]
  },
  {
   "cell_type": "markdown",
   "metadata": {},
   "source": [
    "### Submission Result:\n",
    "Status: Accepted  \n",
    "Runtime: 112 ms  \n",
    "Ranking: beats 28.04% "
   ]
  },
  {
   "cell_type": "markdown",
   "metadata": {},
   "source": [
    "## Analyze:\n",
    "The number of zero elements in front of a non-zero element is the moving distance of the non-zero element according to the final position.\n",
    "## Code 3:"
   ]
  },
  {
   "cell_type": "code",
   "execution_count": 16,
   "metadata": {
    "collapsed": false
   },
   "outputs": [],
   "source": [
    "class Solution(object):\n",
    "    def moveZeroes(self, nums):\n",
    "        \"\"\"\n",
    "        :type nums: List[int]\n",
    "        :rtype: void Do not return anything, modify nums in-place instead.\n",
    "        \"\"\"\n",
    "\n",
    "        count0=0\n",
    "        for i in range(len(nums)):\n",
    "            if nums[i]==0:\n",
    "                count0+=1\n",
    "            else:\n",
    "                nums[i-count0]=nums[i]\n",
    "        #pirnt count0\n",
    "        nums[-1:-1-count0:-1]=[0]*count0\n",
    "        #print nums"
   ]
  },
  {
   "cell_type": "markdown",
   "metadata": {},
   "source": [
    "### Submission Result:\n",
    "Status: Accepted  \n",
    "Runtime: 72 ms  \n",
    "Ranking: <font size=5>beats 82.88%</font> "
   ]
  }
 ],
 "metadata": {
  "kernelspec": {
   "display_name": "Python 2",
   "language": "python",
   "name": "python2"
  },
  "language_info": {
   "codemirror_mode": {
    "name": "ipython",
    "version": 2
   },
   "file_extension": ".py",
   "mimetype": "text/x-python",
   "name": "python",
   "nbconvert_exporter": "python",
   "pygments_lexer": "ipython2",
   "version": "2.7.10"
  }
 },
 "nbformat": 4,
 "nbformat_minor": 0
}
