{
 "cells": [
  {
   "cell_type": "markdown",
   "metadata": {},
   "source": [
    "# 104. Maximum Depth of Binary Tree\n",
    "[Leetcode link for this question](https://leetcode.com/problems/maximum-depth-of-binary-tree/)\n",
    "## Discription: \n",
    "Given a binary tree, find its maximum depth.\n",
    "\n",
    "The maximum depth is the number of nodes along the longest path from the root node down to the farthest leaf node.\n",
    "## Analyze:\n"
   ]
  },
  {
   "cell_type": "code",
   "execution_count": 1,
   "metadata": {
    "collapsed": true
   },
   "outputs": [],
   "source": [
    "#Definition for a binary tree node.\n",
    "class TreeNode(object):\n",
    "    def __init__(self, x):\n",
    "        self.val = x\n",
    "        self.left = None\n",
    "        self.right = None"
   ]
  },
  {
   "cell_type": "code",
   "execution_count": 2,
   "metadata": {
    "collapsed": true
   },
   "outputs": [],
   "source": [
    "#Generate a binary tree by a list ( like, [1,2,None,4,5,6,None,8,9,10,11,12] ) and return the root node.   \n",
    "def gen_Tree(val_list):\n",
    "        if not val_list:\n",
    "            return \n",
    "        root=TreeNode(val_list.pop(0))\n",
    "        #print root.val\n",
    "        le_list=[root]\n",
    "        while val_list:\n",
    "            tmp=le_list.pop(0)\n",
    "            if val_list:\n",
    "                tmp.left=TreeNode(val_list.pop(0))\n",
    "                if tmp.left.val!=None:\n",
    "                    le_list.append(tmp.left)\n",
    "            if val_list:\n",
    "                tmp.right=TreeNode(val_list.pop(0))\n",
    "                if tmp.right.val!=None:\n",
    "                    le_list.append(tmp.right)\n",
    "            else:\n",
    "                return root\n",
    "        return root"
   ]
  },
  {
   "cell_type": "code",
   "execution_count": 3,
   "metadata": {
    "collapsed": true
   },
   "outputs": [],
   "source": [
    "# print the tree by level\n",
    "def show_Tree(root):\n",
    "    def print_fun(le):\n",
    "        for i in le:\n",
    "            if i!=None:\n",
    "                print i.val,\n",
    "            else:\n",
    "                print 'None',\n",
    "        print ''\n",
    "    cur_le=[root]\n",
    "    next_le=[]\n",
    "    print_fun(cur_le)\n",
    "    while cur_le:        \n",
    "        tmp=cur_le.pop(0)\n",
    "        if tmp!=None:# and tmp.val!=None:\n",
    "            if tmp.left:\n",
    "                next_le.append(tmp.left)\n",
    "            else:\n",
    "                next_le.append(None)\n",
    "            if tmp.right:\n",
    "                next_le.append(tmp.right)\n",
    "            else:\n",
    "                next_le.append(None)\n",
    "        if not cur_le:\n",
    "            cur_le=next_le\n",
    "            print_fun(cur_le)\n",
    "            next_le=[]\n",
    "            if not cur_le:\n",
    "                break            \n",
    "    return"
   ]
  },
  {
   "cell_type": "code",
   "execution_count": 4,
   "metadata": {
    "collapsed": false
   },
   "outputs": [
    {
     "name": "stdout",
     "output_type": "stream",
     "text": [
      "1 \n",
      "2 None \n",
      "4 5 None None \n",
      "6 None 8 9 \n",
      "10 11 None None 12 None None None \n",
      "None None None None None None \n",
      "\n"
     ]
    }
   ],
   "source": [
    "root=gen_Tree([1,2,None,4,5,6,None,8,9,10,11,12])\n",
    "show_Tree(root)"
   ]
  },
  {
   "cell_type": "markdown",
   "metadata": {},
   "source": [
    "## Code 1:"
   ]
  },
  {
   "cell_type": "code",
   "execution_count": 14,
   "metadata": {
    "collapsed": true
   },
   "outputs": [],
   "source": [
    "class Solution(object):\n",
    "    def maxDepth(self,root):\n",
    "        if not root:\n",
    "            return 0\n",
    "        queue,hei,max_hei=[],1,1\n",
    "        queue.append((root,1))\n",
    "        while queue:\n",
    "            node,hei=queue.pop(0)\n",
    "            max_hei=max(max_hei,hei)\n",
    "            if node.left:\n",
    "                queue.append((node.left,hei+1))\n",
    "            if node.right:\n",
    "                queue.append((node.right,hei+1))\n",
    "        max_hei=max(max_hei,hei)\n",
    "        return max_hei\n",
    "    "
   ]
  },
  {
   "cell_type": "markdown",
   "metadata": {},
   "source": [
    "### Submission Result:\n",
    "Status: Accepted  \n",
    "Runtime: 68 ms  \n",
    "Ranking: beats 71.09% "
   ]
  }
 ],
 "metadata": {
  "kernelspec": {
   "display_name": "Python 2",
   "language": "python",
   "name": "python2"
  },
  "language_info": {
   "codemirror_mode": {
    "name": "ipython",
    "version": 2
   },
   "file_extension": ".py",
   "mimetype": "text/x-python",
   "name": "python",
   "nbconvert_exporter": "python",
   "pygments_lexer": "ipython2",
   "version": "2.7.10"
  }
 },
 "nbformat": 4,
 "nbformat_minor": 0
}
