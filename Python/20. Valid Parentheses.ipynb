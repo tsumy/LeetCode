{
 "cells": [
  {
   "cell_type": "markdown",
   "metadata": {},
   "source": [
    "# 20. Valid Parentheses\n",
    "[Leetcode link for this question](https://leetcode.com/problems/valid-parentheses/)\n",
    "## Discription: \n",
    "<p>Given a string containing just the characters <code>'('</code>, <code>')'</code>, <code>'{'</code>, <code>'}'</code>, <code>'['</code> and <code>']'</code>, determine if the input string is valid.</p>\n",
    "\n",
    "<p>The brackets must close in the correct order, <code>\"()\"</code> and <code>\"()[]{}\"</code> are all valid but <code>\"(]\"</code> and <code>\"([)]\"</code> are not.</p><p></p>\n",
    "               \n",
    "## Analyze:\n"
   ]
  },
  {
   "cell_type": "markdown",
   "metadata": {},
   "source": [
    "## Code 1 :"
   ]
  },
  {
   "cell_type": "code",
   "execution_count": 1,
   "metadata": {
    "collapsed": true
   },
   "outputs": [],
   "source": [
    "class Solution(object):\n",
    "    def isValid(self, s):\n",
    "        \"\"\"\n",
    "        :type s: str\n",
    "        :rtype: bool\n",
    "        \"\"\"\n",
    "        li=[]\n",
    "        left=['(','{','[']\n",
    "        for i in s:\n",
    "            if i in left:\n",
    "                li.append(i)\n",
    "            elif not li:\n",
    "                return False\n",
    "            elif i ==')' :\n",
    "                if li[-1]!='(':\n",
    "                    return False\n",
    "                else:\n",
    "                    li.pop()\n",
    "            elif i =='}' :\n",
    "                if li[-1]!='{':\n",
    "                    return False\n",
    "                else:\n",
    "                    li.pop()\n",
    "            elif  i ==']' :\n",
    "                if li[-1]!='[':\n",
    "                    return False\n",
    "                else:\n",
    "                    li.pop()\n",
    "        if li:\n",
    "            return False\n",
    "        else:\n",
    "            return True         \n",
    "            "
   ]
  },
  {
   "cell_type": "markdown",
   "metadata": {},
   "source": [
    "### Submission Result:\n",
    "Status: Accepted  \n",
    "Runtime: 44 ms  \n",
    "Ranking: beats 72.46% "
   ]
  }
 ],
 "metadata": {
  "kernelspec": {
   "display_name": "Python 2",
   "language": "python",
   "name": "python2"
  },
  "language_info": {
   "codemirror_mode": {
    "name": "ipython",
    "version": 2
   },
   "file_extension": ".py",
   "mimetype": "text/x-python",
   "name": "python",
   "nbconvert_exporter": "python",
   "pygments_lexer": "ipython2",
   "version": "2.7.10"
  }
 },
 "nbformat": 4,
 "nbformat_minor": 0
}
