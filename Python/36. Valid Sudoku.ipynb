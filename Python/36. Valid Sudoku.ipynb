{
 "cells": [
  {
   "cell_type": "markdown",
   "metadata": {},
   "source": [
    "# 36. Valid Sudoku\n",
    "[Leetcode link for this question](https://leetcode.com/problems/valid-sudoku/)\n",
    "## Discription: \n",
    "<p>Determine if a Sudoku is valid, according to: <a href=\"http://sudoku.com.au/TheRules.aspx\">Sudoku Puzzles - The Rules</a>.</p>\n",
    "\n",
    "<p>The Sudoku board could be partially filled, where empty cells are filled with the character <code>'.'</code>.</p>\n",
    "\n",
    "<p>\n",
    "<img src=\"http://upload.wikimedia.org/wikipedia/commons/thumb/f/ff/Sudoku-by-L2G-20050714.svg/250px-Sudoku-by-L2G-20050714.svg.png\"><br>\n",
    "</p><p style=\"font-size: 11px\">            A partially filled sudoku which is valid.</p>\n",
    "<p></p>\n",
    "\n",
    "<p><b>Note:</b><br>\n",
    "A valid Sudoku board (partially filled) is not necessarily solvable. Only the filled cells need to be validated.\n",
    "</p>\n",
    "## Analyze:\n"
   ]
  },
  {
   "cell_type": "markdown",
   "metadata": {},
   "source": [
    "## Code 1:"
   ]
  },
  {
   "cell_type": "code",
   "execution_count": 2,
   "metadata": {
    "collapsed": true
   },
   "outputs": [],
   "source": [
    "class Solution(object):\n",
    "    def isValidSudoku(self, board):\n",
    "        \"\"\"\n",
    "        :type board: List[List[str]]\n",
    "        :rtype: bool\n",
    "        \"\"\"\n",
    "        return 1 == max(collections.Counter(\n",
    "            x\n",
    "            for i, row in enumerate(board)  \n",
    "            for j, c in enumerate(row)\n",
    "            if c != '.'\n",
    "            for x in ((c, i), (j, c), (i/3, j/3, c))\n",
    "        ).values() + [1])"
   ]
  },
  {
   "cell_type": "markdown",
   "metadata": {},
   "source": [
    "### Submission Result:\n",
    "Status: Accepted  \n",
    "Runtime: 133 ms  \n",
    "Ranking: beats 12.95% "
   ]
  }
 ],
 "metadata": {
  "kernelspec": {
   "display_name": "Python 2",
   "language": "python",
   "name": "python2"
  },
  "language_info": {
   "codemirror_mode": {
    "name": "ipython",
    "version": 2
   },
   "file_extension": ".py",
   "mimetype": "text/x-python",
   "name": "python",
   "nbconvert_exporter": "python",
   "pygments_lexer": "ipython2",
   "version": "2.7.10"
  }
 },
 "nbformat": 4,
 "nbformat_minor": 0
}
