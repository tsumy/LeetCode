{
 "cells": [
  {
   "cell_type": "markdown",
   "metadata": {},
   "source": [
    "# 7. Reverse Integer\n",
    "[Leetcode link for this question](https://leetcode.com/problems/reverse-integer/)\n",
    "## Discription: \n",
    "\n",
    "<p>Reverse digits of an integer.</p>\n",
    "<p style=\"font-family:monospace\">\n",
    "<b>Example1:</b> x =  123, return  321<br>\n",
    "<b>Example2:</b> x = -123, return -321\n",
    "</p>\n",
    "<p></p>\n",
    "<div class=\"spoilers\" style=\"display: block;\"><b>Have you thought about this?</b>\n",
    "<p>Here are some good questions to ask before coding. Bonus points for you if you have already thought through this!</p>\n",
    "<p>If the integer's last digit is 0, what should the output be? ie, cases such as 10, 100.</p>\n",
    "<p>Did you notice that the reversed integer might overflow? Assume the input is a 32-bit integer, then the reverse of 1000000003 overflows. How should you handle such cases?</p>\n",
    "<p>For the purpose of this problem, assume that your function returns 0 when the reversed integer overflows.</p>\n",
    "<p><b><font color=\"red\">Update (2014-11-10):</font></b><br>\n",
    "Test cases had been added to test the overflow behavior.\n",
    "</p>\n",
    "</div>\n",
    "               \n",
    "## Analyze:\n"
   ]
  },
  {
   "cell_type": "code",
   "execution_count": 6,
   "metadata": {
    "collapsed": false
   },
   "outputs": [
    {
     "name": "stdout",
     "output_type": "stream",
     "text": [
      "　 0b1111111111111111111111111111111\n",
      "　 0b1111111111111111111111111111110\n",
      "　 0b10000000000000000000000000000000 overflows\n",
      "  -0b1111111111111111111111111111111\n",
      "  -0b10000000000000000000000000000000 overflows\n",
      "  -0b10000000000000000000000000000001 overflows\n",
      "  -0b1111111111111111111111111111111\n"
     ]
    }
   ],
   "source": [
    "print '　',bin(2147483647)\n",
    "print '　',bin(2147483646)\n",
    "print '　',bin(2147483648),'overflows' \n",
    "print ' ',bin(-2147483647)\n",
    "print ' ',bin(-2147483648),'overflows' \n",
    "print ' ',bin(-2147483649),'overflows' \n",
    "print ' ',bin(-2147483647)"
   ]
  },
  {
   "cell_type": "markdown",
   "metadata": {},
   "source": [
    "## Code 1 :"
   ]
  },
  {
   "cell_type": "code",
   "execution_count": 1,
   "metadata": {
    "collapsed": true
   },
   "outputs": [],
   "source": [
    "class Solution(object):\n",
    "    def reverse(self, x):\n",
    "        \"\"\"\n",
    "        :type x: int\n",
    "        :rtype: int\n",
    "        \"\"\"\n",
    "        if x==0:\n",
    "            return x\n",
    "        flag=1\n",
    "        if x<0:\n",
    "            flag=-1\n",
    "            x=-x\n",
    "        re=0\n",
    "        i=1\n",
    "        while 1:\n",
    "            re=re+x%10\n",
    "            x=x/10\n",
    "            if x<1:\n",
    "                re=re*flag\n",
    "                break\n",
    "            re=re*10\n",
    "            i+=1\n",
    "        if re > 2147483647 or re < -2147483648:\n",
    "            return 0\n",
    "        return re"
   ]
  },
  {
   "cell_type": "markdown",
   "metadata": {},
   "source": [
    "### Submission Result:\n",
    "Status: Accepted  \n",
    "Runtime: 64 ms  \n",
    "Ranking: beats 70.20% "
   ]
  },
  {
   "cell_type": "markdown",
   "metadata": {},
   "source": [
    "## Code 2:"
   ]
  },
  {
   "cell_type": "code",
   "execution_count": 2,
   "metadata": {
    "collapsed": true
   },
   "outputs": [],
   "source": [
    "class Solution(object):\n",
    "    def reverse(self, x):\n",
    "        \"\"\"\n",
    "        :type x: int\n",
    "        :rtype: int\n",
    "        \"\"\"\n",
    "        if x==0:\n",
    "            return x\n",
    "        flag=1\n",
    "        if x<0:\n",
    "            flag=-1\n",
    "            x=-x\n",
    "        re=string.atoi(str(x)[::-1])\n",
    "        re=re*flag\n",
    "        if re > 2147483647 or re < -2147483648:\n",
    "            return 0\n",
    "        return re"
   ]
  },
  {
   "cell_type": "markdown",
   "metadata": {},
   "source": [
    "### Submission Result:\n",
    "Status: Accepted  \n",
    "Runtime: 64 ms  \n",
    "Ranking: beats 70.20% "
   ]
  }
 ],
 "metadata": {
  "kernelspec": {
   "display_name": "Python 2",
   "language": "python",
   "name": "python2"
  },
  "language_info": {
   "codemirror_mode": {
    "name": "ipython",
    "version": 2
   },
   "file_extension": ".py",
   "mimetype": "text/x-python",
   "name": "python",
   "nbconvert_exporter": "python",
   "pygments_lexer": "ipython2",
   "version": "2.7.10"
  }
 },
 "nbformat": 4,
 "nbformat_minor": 0
}
