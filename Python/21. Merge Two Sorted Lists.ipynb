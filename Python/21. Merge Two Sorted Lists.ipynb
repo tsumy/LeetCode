{
 "cells": [
  {
   "cell_type": "markdown",
   "metadata": {},
   "source": [
    "# 21. Merge Two Sorted Lists\n",
    "[Leetcode link for this question](https://leetcode.com/problems/merge-two-sorted-lists/)\n",
    "## Discription: \n",
    "<font size=3>Merge two sorted linked lists and return it as a new list. The new list should be made by splicing together the nodes of the first two lists.</font>               \n",
    "## Analyze:\n"
   ]
  },
  {
   "cell_type": "markdown",
   "metadata": {},
   "source": [
    "## Code 1 :"
   ]
  },
  {
   "cell_type": "code",
   "execution_count": 1,
   "metadata": {
    "collapsed": true
   },
   "outputs": [],
   "source": [
    "# Definition for singly-linked list.\n",
    "# class ListNode(object):\n",
    "#     def __init__(self, x):\n",
    "#         self.val = x\n",
    "#         self.next = None\n",
    "\n",
    "class Solution(object):\n",
    "    def mergeTwoLists(self, l1, l2):\n",
    "        \"\"\"\n",
    "        :type l1: ListNode\n",
    "        :type l2: ListNode\n",
    "        :rtype: ListNode\n",
    "        \"\"\"\n",
    "        head=ListNode(0)\n",
    "        tail=head\n",
    "        while l1 and l2:\n",
    "            if l1.val > l2.val:\n",
    "                tail.next=l2\n",
    "                l2=l2.next\n",
    "            else:\n",
    "                tail.next=l1\n",
    "                l1=l1.next\n",
    "            tail=tail.next\n",
    "        if l1 is None:\n",
    "            tail.next=l2\n",
    "        else:\n",
    "            tail.next=l1\n",
    "        return head.next"
   ]
  },
  {
   "cell_type": "markdown",
   "metadata": {},
   "source": [
    "### Submission Result:\n",
    "Status: Accepted  \n",
    "Runtime: 52 ms  \n",
    "Ranking: beats <font size=3 color=red>97.5%</font> "
   ]
  }
 ],
 "metadata": {
  "kernelspec": {
   "display_name": "Python 2",
   "language": "python",
   "name": "python2"
  },
  "language_info": {
   "codemirror_mode": {
    "name": "ipython",
    "version": 2
   },
   "file_extension": ".py",
   "mimetype": "text/x-python",
   "name": "python",
   "nbconvert_exporter": "python",
   "pygments_lexer": "ipython2",
   "version": "2.7.10"
  }
 },
 "nbformat": 4,
 "nbformat_minor": 0
}
