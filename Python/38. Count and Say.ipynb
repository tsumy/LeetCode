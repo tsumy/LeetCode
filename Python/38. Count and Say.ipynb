{
 "cells": [
  {
   "cell_type": "markdown",
   "metadata": {},
   "source": [
    "# 38. Count and Say\n",
    "[Leetcode link for this question](https://leetcode.com/problems/count-and-say/)\n",
    "## Discription: \n",
    "The count-and-say sequence is the sequence of integers beginning as follows:\n",
    "1, 11, 21, 1211, 111221, ...  \n",
    "\n",
    "1 is read off as \"one 1\" or 11.  \n",
    "11 is read off as \"two 1s\" or 21.  \n",
    "21 is read off as \"one 2, then one 1\" or 1211.  \n",
    "Given an integer n, generate the nth sequence.  \n",
    "\n",
    "Note: The sequence of integers will be represented as a string.\n",
    "## Analyze:\n"
   ]
  },
  {
   "cell_type": "markdown",
   "metadata": {},
   "source": [
    "## Code 1:"
   ]
  },
  {
   "cell_type": "code",
   "execution_count": 2,
   "metadata": {
    "collapsed": true
   },
   "outputs": [],
   "source": [
    "class Solution(object):\n",
    "    def countAndSay(self, n):\n",
    "        \"\"\"\n",
    "        :type n: int\n",
    "        :rtype: str\n",
    "        \"\"\"\n",
    "        def fun(s):\n",
    "            p1,p2=0,0\n",
    "            re=''\n",
    "            for i,v in enumerate(s):\n",
    "                p2=i\n",
    "                if s[p1]==s[p2]:\n",
    "                    continue\n",
    "                else:\n",
    "                    re=re+str(p2-p1)+s[p1]\n",
    "                    p1=p2\n",
    "            re=re+str(p2-p1+1)+s[p1]\n",
    "            return re\n",
    "            \n",
    "        s=str(1)\n",
    "        for i in range(n-1):\n",
    "            s=fun(s)\n",
    "        return s     "
   ]
  },
  {
   "cell_type": "markdown",
   "metadata": {},
   "source": [
    "### Submission Result:\n",
    "Status: Accepted  \n",
    "Runtime: 48 ms  \n",
    "Ranking: beats 81.75% "
   ]
  }
 ],
 "metadata": {
  "kernelspec": {
   "display_name": "Python 2",
   "language": "python",
   "name": "python2"
  },
  "language_info": {
   "codemirror_mode": {
    "name": "ipython",
    "version": 2
   },
   "file_extension": ".py",
   "mimetype": "text/x-python",
   "name": "python",
   "nbconvert_exporter": "python",
   "pygments_lexer": "ipython2",
   "version": "2.7.10"
  }
 },
 "nbformat": 4,
 "nbformat_minor": 0
}
