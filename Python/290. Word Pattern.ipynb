{
 "cells": [
  {
   "cell_type": "markdown",
   "metadata": {},
   "source": [
    "# 290. Word Pattern\n",
    "[Leetcode link for this question](https://leetcode.com/problems/word-pattern/)\n",
    "## Discription: \n",
    "Given a pattern and a string str, find if str follows the same pattern.\n",
    "\n",
    "Here follow means a full match, such that there is a bijection between a letter in pattern and a non-empty word in str.\n",
    "\n",
    "Examples:\n",
    "pattern = \"abba\", str = \"dog cat cat dog\" should return true.\n",
    "pattern = \"abba\", str = \"dog cat cat fish\" should return false.\n",
    "pattern = \"aaaa\", str = \"dog cat cat dog\" should return false.\n",
    "pattern = \"abba\", str = \"dog dog dog dog\" should return false.\n",
    "Notes:\n",
    "You may assume pattern contains only lowercase letters, and str contains lowercase letters separated by a single space.\n",
    "## Analyze:\n"
   ]
  },
  {
   "cell_type": "markdown",
   "metadata": {},
   "source": [
    "## Code 1:"
   ]
  },
  {
   "cell_type": "code",
   "execution_count": 14,
   "metadata": {
    "collapsed": true
   },
   "outputs": [],
   "source": [
    "class Solution(object):\n",
    "    def wordPattern(self, pattern, str):\n",
    "        \"\"\"\n",
    "        :type pattern: str\n",
    "        :type str: str\n",
    "        :rtype: bool\n",
    "        \"\"\"\n",
    "        str_li= str.split()\n",
    "        return map(pattern.find, pattern) == map(str_li.index,str_li)"
   ]
  },
  {
   "cell_type": "markdown",
   "metadata": {},
   "source": [
    "### Submission Result:\n",
    "Status: Accepted  \n",
    "Runtime: 44 ms  \n",
    "Ranking: beats 74.53% "
   ]
  }
 ],
 "metadata": {
  "kernelspec": {
   "display_name": "Python 2",
   "language": "python",
   "name": "python2"
  },
  "language_info": {
   "codemirror_mode": {
    "name": "ipython",
    "version": 2
   },
   "file_extension": ".py",
   "mimetype": "text/x-python",
   "name": "python",
   "nbconvert_exporter": "python",
   "pygments_lexer": "ipython2",
   "version": "2.7.10"
  }
 },
 "nbformat": 4,
 "nbformat_minor": 0
}
