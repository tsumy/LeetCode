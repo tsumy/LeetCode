{
 "cells": [
  {
   "cell_type": "markdown",
   "metadata": {},
   "source": [
    "# 28. Implement strStr()\n",
    "[Leetcode link for this question](https://leetcode.com/problems/implement-strstr/)\n",
    "## Discription: \n",
    "Implement strStr().\n",
    "\n",
    "Returns the index of the first occurrence of needle in haystack, or -1 if needle is not part of haystack.\n",
    "## Analyze:\n"
   ]
  },
  {
   "cell_type": "markdown",
   "metadata": {},
   "source": [
    "## Code 1:"
   ]
  },
  {
   "cell_type": "code",
   "execution_count": 2,
   "metadata": {
    "collapsed": true
   },
   "outputs": [],
   "source": [
    "class Solution(object):\n",
    "    def strStr(self, haystack, needle):\n",
    "        \"\"\"\n",
    "        :type haystack: str\n",
    "        :type needle: str\n",
    "        :rtype: int\n",
    "        \"\"\"\n",
    "        if not haystack and needle or len(haystack)<len(needle):\n",
    "            return -1\n",
    "        if not haystack :\n",
    "            return 0\n",
    "        if haystack and not needle:\n",
    "            return 0\n",
    "        for i,v in enumerate(haystack):\n",
    "            if haystack[i:len(needle)+i]==needle:\n",
    "                return i\n",
    "            if i==len(haystack)-1:\n",
    "                return -1"
   ]
  },
  {
   "cell_type": "markdown",
   "metadata": {},
   "source": [
    "### Submission Result:\n",
    "Status: Accepted  \n",
    "Runtime: 848 ms  \n",
    "Ranking: beats 0.30% "
   ]
  },
  {
   "cell_type": "markdown",
   "metadata": {},
   "source": [
    "## Code 2:"
   ]
  },
  {
   "cell_type": "code",
   "execution_count": 1,
   "metadata": {
    "collapsed": true
   },
   "outputs": [],
   "source": [
    "class Solution(object):\n",
    "    def strStr(self, haystack, needle):\n",
    "        \"\"\"\n",
    "        :type haystack: str\n",
    "        :type needle: str\n",
    "        :rtype: int\n",
    "        \"\"\"\n",
    "        \n",
    "        if not needle:\n",
    "            return 0\n",
    "        if not haystack:\n",
    "            return -1\n",
    "        if len(haystack)<len(needle):\n",
    "            return -1\n",
    "        i=0\n",
    "        while 1:\n",
    "            if i+len(needle)>len(haystack):\n",
    "                return -1\n",
    "            if haystack[i:i+len(needle)]==needle:\n",
    "                return i\n",
    "            i+=1                "
   ]
  },
  {
   "cell_type": "markdown",
   "metadata": {},
   "source": [
    "### Submission Result:\n",
    "Status: Accepted  \n",
    "Runtime: 64 ms  \n",
    "Ranking: beats 43.29% "
   ]
  }
 ],
 "metadata": {
  "kernelspec": {
   "display_name": "Python 2",
   "language": "python",
   "name": "python2"
  },
  "language_info": {
   "codemirror_mode": {
    "name": "ipython",
    "version": 2
   },
   "file_extension": ".py",
   "mimetype": "text/x-python",
   "name": "python",
   "nbconvert_exporter": "python",
   "pygments_lexer": "ipython2",
   "version": "2.7.10"
  }
 },
 "nbformat": 4,
 "nbformat_minor": 0
}
