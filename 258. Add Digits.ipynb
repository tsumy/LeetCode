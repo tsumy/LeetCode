{
 "cells": [
  {
   "cell_type": "markdown",
   "metadata": {},
   "source": [
    "# 258. Add Digits\n",
    "[Leetcode link for this question](https://leetcode.com/problems/add-digits/)\n",
    "## Discription: \n",
    "Given a non-negative integer num, repeatedly add all its digits until the result has only one digit.\n",
    "\n",
    "For example:\n",
    "\n",
    "Given num = 38, the process is like: 3 + 8 = 11, 1 + 1 = 2. Since 2 has only one digit, return it.\n",
    "\n",
    "Follow up:\n",
    "Could you do it without any loop/recursion in O(1) runtime?\n",
    "## Analyze:\n",
    "[Digital root](https://en.wikipedia.org/wiki/Digital_root)\n",
    "## Code 1:"
   ]
  },
  {
   "cell_type": "code",
   "execution_count": 1,
   "metadata": {
    "collapsed": true
   },
   "outputs": [],
   "source": [
    "class Solution(object):    \n",
    "    def addDigits(self, num):\n",
    "        \"\"\"\n",
    "        :type num: int\n",
    "        :rtype: int\n",
    "        \"\"\"\n",
    "        if (num==0):\n",
    "            return 0\n",
    "        else:\n",
    "            return 1+(num-1)%9"
   ]
  },
  {
   "cell_type": "markdown",
   "metadata": {},
   "source": [
    "### Submission Result:\n",
    "Status: Accepted  \n",
    "Runtime: 56 ms  \n",
    "Ranking: beats 95.55%    \n",
    "## Code 2:"
   ]
  },
  {
   "cell_type": "code",
   "execution_count": null,
   "metadata": {
    "collapsed": true
   },
   "outputs": [],
   "source": [
    "class Solution(object):\n",
    "    def addDigits1(self, num):\n",
    "        \"\"\"\n",
    "        :type num: int\n",
    "        :rtype: int\n",
    "        \"\"\"\n",
    "        s='%d' %num\n",
    "        c=0\n",
    "        for i in range(len(s)):\n",
    "            c=c+int(s[i])\n",
    "        if(c<10):\n",
    "            return c\n",
    "        else:\n",
    "            return self.addDigits(c)"
   ]
  },
  {
   "cell_type": "markdown",
   "metadata": {},
   "source": [
    "### Submission Result:\n",
    "Status: Accepted  \n",
    "Runtime: 72 ms  \n",
    "Ranking: beats 37.43%    "
   ]
  }
 ],
 "metadata": {
  "kernelspec": {
   "display_name": "Python 2",
   "language": "python",
   "name": "python2"
  },
  "language_info": {
   "codemirror_mode": {
    "name": "ipython",
    "version": 2
   },
   "file_extension": ".py",
   "mimetype": "text/x-python",
   "name": "python",
   "nbconvert_exporter": "python",
   "pygments_lexer": "ipython2",
   "version": "2.7.10"
  }
 },
 "nbformat": 4,
 "nbformat_minor": 0
}
