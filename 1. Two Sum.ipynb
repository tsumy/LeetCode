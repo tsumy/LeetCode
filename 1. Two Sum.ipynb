{
 "cells": [
  {
   "cell_type": "markdown",
   "metadata": {},
   "source": [
    "# 1. Two Sum\n",
    "[Leetcode link for this question](https://leetcode.com/problems/two-sum/)\n",
    "## Discription: \n",
    "\n",
    "<p>Given an array of integers, return <b>indices</b> of the two numbers such that they add up to a specific target.</p>\n",
    "\n",
    "<p>You may assume that each input would have <b><i>exactly</i></b> one solution.</p>\n",
    "\n",
    "<p>\n",
    "<b>Example:</b><br>\n",
    "</p><pre>Given nums = [2, 7, 11, 15], target = 9,\n",
    "\n",
    "Because nums[<b>0</b>] + nums[<b>1</b>] = 2 + 7 = 9,\n",
    "return [<b>0</b>, <b>1</b>].\n",
    "</pre>\n",
    "<p></p>\n",
    "\n",
    "<p>\n",
    "<b><font color=\"red\">UPDATE (2016/2/13):</font></b><br>\n",
    "The return format had been changed to <b>zero-based</b> indices. Please read the above updated description carefully.\n",
    "</p><p></p>\n",
    "              \n",
    "               \n",
    "## Analyze:\n"
   ]
  },
  {
   "cell_type": "markdown",
   "metadata": {},
   "source": [
    "## Code 1 （exhaustive search）:"
   ]
  },
  {
   "cell_type": "code",
   "execution_count": 1,
   "metadata": {
    "collapsed": true
   },
   "outputs": [],
   "source": [
    "class Solution(object):\n",
    "    def twoSum(self, nums, target):\n",
    "        \"\"\"\n",
    "        :type nums: List[int]\n",
    "        :type target: int\n",
    "        :rtype: List[int]\n",
    "        \"\"\"\n",
    "        for i in range(len(nums)):\n",
    "            for j in range(i+1,len(nums)):\n",
    "                if nums[i]+nums[j]==target:\n",
    "                    return[i,j]"
   ]
  },
  {
   "cell_type": "markdown",
   "metadata": {},
   "source": [
    "### Submission Result:\n",
    "Status: Accepted  \n",
    "Runtime: 5872 ms  \n",
    "Ranking: beats 9.41% "
   ]
  },
  {
   "cell_type": "markdown",
   "metadata": {},
   "source": [
    "## Code 2:"
   ]
  },
  {
   "cell_type": "code",
   "execution_count": 2,
   "metadata": {
    "collapsed": true
   },
   "outputs": [],
   "source": [
    "class Solution(object):\n",
    "    def twoSum(self, nums, target):\n",
    "        \"\"\"\n",
    "        :type nums: List[int]\n",
    "        :type target: int\n",
    "        :rtype: List[int]\n",
    "        \"\"\"\n",
    "        tmp=[]\n",
    "        for i in range(len(nums)):\n",
    "            tmp.append((i,nums[i]))\n",
    "        tmp=sorted(tmp,key=lambda t:t[1]) ###  use tuple to sort nums and get the index\n",
    "        nums.sort()\n",
    "        i=0\n",
    "        j=len(nums)-1        \n",
    "        while i<=j:\n",
    "            if nums[i]+nums[j]<target:\n",
    "                i+=1\n",
    "            elif nums[i]+nums[j]>target:\n",
    "                j-=1\n",
    "            else:\n",
    "                return [tmp[i][0],tmp[j][0]]"
   ]
  },
  {
   "cell_type": "markdown",
   "metadata": {},
   "source": [
    "### Submission Result:\n",
    "Status: Accepted  \n",
    "Runtime: 52 ms  \n",
    "Ranking: beats 73.69% "
   ]
  }
 ],
 "metadata": {
  "kernelspec": {
   "display_name": "Python 2",
   "language": "python",
   "name": "python2"
  },
  "language_info": {
   "codemirror_mode": {
    "name": "ipython",
    "version": 2
   },
   "file_extension": ".py",
   "mimetype": "text/x-python",
   "name": "python",
   "nbconvert_exporter": "python",
   "pygments_lexer": "ipython2",
   "version": "2.7.10"
  }
 },
 "nbformat": 4,
 "nbformat_minor": 0
}
