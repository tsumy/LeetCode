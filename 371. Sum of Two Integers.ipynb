{
 "cells": [
  {
   "cell_type": "markdown",
   "metadata": {},
   "source": [
    "# 371. Sum of Two Integers\n",
    "[Leetcode link for this question](https://leetcode.com/problems/sum-of-two-integers/)\n",
    "## Discription: \n",
    "Calculate the sum of two integers a and b, but you are not allowed to use the operator + and -.\n",
    "\n",
    "Example:\n",
    "Given a = 1 and b = 2, return 3.\n",
    "## Analyze:\n",
    "Since no operator + and - to use, we can use bit operation and shift operation to constitute sum rules.  \n",
    "To caculate 7+6"
   ]
  },
  {
   "cell_type": "code",
   "execution_count": 13,
   "metadata": {
    "collapsed": false
   },
   "outputs": [
    {
     "name": "stdout",
     "output_type": "stream",
     "text": [
      "a = 0b111\n",
      "b = 0b110\n",
      "a^b = 0b1\n",
      "a&b = 0b110\n"
     ]
    }
   ],
   "source": [
    "a,b=7,6\n",
    "print 'a =',bin(a)\n",
    "print 'b =',bin(b)\n",
    "print 'a^b =',bin(a^b)\n",
    "print 'a&b =',bin(a&b)"
   ]
  },
  {
   "cell_type": "markdown",
   "metadata": {},
   "source": [
    "a+b=7+6 = 0b 111+0b 110 = 0b 1101 =0b 1100 + 0b0001 = (0b 111&0b 110) + A left shift to (0b 111^0b 110) = left shift(a&b)+a^b\n",
    "when a&b is 0, a+b=a^b."
   ]
  },
  {
   "cell_type": "markdown",
   "metadata": {},
   "source": [
    "## Code 1:"
   ]
  },
  {
   "cell_type": "code",
   "execution_count": 14,
   "metadata": {
    "collapsed": true
   },
   "outputs": [],
   "source": [
    "class Solution(object):       \n",
    "    def getSum(self, a, b):\n",
    "        \"\"\"\n",
    "        :type a: int\n",
    "        :type b: int\n",
    "        :rtype: int\n",
    "        \"\"\"\n",
    "        def fun(a,b):\n",
    "            sum=a^b           #    the sum ignore carry\n",
    "            carry=a&b         #    \n",
    "            if (carry==0):\n",
    "                return sum\n",
    "            else:\n",
    "                return fun(sum,carry<<1)\n",
    "            \n",
    "        flag=1\n",
    "        if(a^b<0):\n",
    "            if(a==-b):\n",
    "                return 0\n",
    "            elif(a<0):\n",
    "                if(-a<b):\n",
    "                    flag=-1\n",
    "            elif(a>-b):\n",
    "                flag=-1\n",
    "        if(flag==-1):\n",
    "            a=-a;b=-b\n",
    "        return flag*fun(a,b)"
   ]
  },
  {
   "cell_type": "markdown",
   "metadata": {},
   "source": [
    "### Submission Result:\n",
    "Status: Accepted  \n",
    "Runtime: 36 ms  \n",
    "Ranking: beats 96.23% "
   ]
  },
  {
   "cell_type": "markdown",
   "metadata": {},
   "source": [
    "###I don't know why positive plus negative will get wrong anser using python bit operation."
   ]
  }
 ],
 "metadata": {
  "kernelspec": {
   "display_name": "Python 2",
   "language": "python",
   "name": "python2"
  },
  "language_info": {
   "codemirror_mode": {
    "name": "ipython",
    "version": 2
   },
   "file_extension": ".py",
   "mimetype": "text/x-python",
   "name": "python",
   "nbconvert_exporter": "python",
   "pygments_lexer": "ipython2",
   "version": "2.7.10"
  }
 },
 "nbformat": 4,
 "nbformat_minor": 0
}
