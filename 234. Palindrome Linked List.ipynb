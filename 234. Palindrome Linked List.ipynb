{
 "cells": [
  {
   "cell_type": "markdown",
   "metadata": {},
   "source": [
    "# 234. Palindrome Linked List\n",
    "[Leetcode link for this question](https://leetcode.com/problems/palindrome-number/)\n",
    "## Discription: \n",
    "Given a singly linked list, determine if it is a palindrome.\n",
    "\n",
    "Follow up:\n",
    "Could you do it in O(n) time and O(1) space?\n",
    "## Analyze:"
   ]
  },
  {
   "cell_type": "code",
   "execution_count": 7,
   "metadata": {
    "collapsed": true
   },
   "outputs": [],
   "source": [
    "#Definition for singly-linked list.\n",
    "class ListNode(object):\n",
    "    def __init__(self, x):\n",
    "        self.val = x\n",
    "        self.next = None\n",
    "#Generate a linked list by a list and return the head node\n",
    "def gen_ListNode(li):\n",
    "    if not li:\n",
    "        return None\n",
    "    head=ListNode(li.pop(0))\n",
    "    tmp=head\n",
    "    while li:\n",
    "            tmp.next=ListNode(li.pop(0))\n",
    "            tmp=tmp.next\n",
    "    return head\n",
    "#Print a linked list from head to tail\n",
    "def show_List(head):\n",
    "    if not head:\n",
    "        print empty\n",
    "    while head:\n",
    "        print head.val,\n",
    "        if head.next:\n",
    "            print '→',\n",
    "        head=head.next\n",
    "    print "
   ]
  },
  {
   "cell_type": "markdown",
   "metadata": {},
   "source": [
    "## Code 1:"
   ]
  },
  {
   "cell_type": "code",
   "execution_count": 8,
   "metadata": {
    "collapsed": true
   },
   "outputs": [],
   "source": [
    "# Definition for singly-linked list.\n",
    "# class ListNode(object):\n",
    "#     def __init__(self, x):\n",
    "#         self.val = x\n",
    "#         self.next = None\n",
    "\n",
    "class Solution(object):\n",
    "    def isPalindrome(self, head):\n",
    "        \"\"\"\n",
    "        :type head: ListNode\n",
    "        :rtype: bool\n",
    "        \"\"\"\n",
    "        if not head:\n",
    "            return True\n",
    "        le=0\n",
    "        pre=ListNode('x')\n",
    "        pre.next=head\n",
    "        while head:\n",
    "            le+=1\n",
    "            head=head.next\n",
    "        if le==1:\n",
    "            return True\n",
    "        lo=0\n",
    "        flag=pre.next\n",
    "        while lo<le/2-1 :\n",
    "            old_flag=flag\n",
    "            old_flne=flag.next\n",
    "            old_flnene=flag.next.next\n",
    "            \n",
    "            flag.next=old_flnene\n",
    "            old_flne.next=pre.next\n",
    "            pre.next=old_flne\n",
    "            \n",
    "            lo+=1\n",
    "        #print le,flag.val\n",
    "        head=pre.next\n",
    "        if le%2:\n",
    "            flag=flag.next\n",
    "        a=pre.next\n",
    "        b=flag.next\n",
    "        while b:\n",
    "            if a.val!=b.val:\n",
    "                return False\n",
    "            a=a.next\n",
    "            b=b.next\n",
    "        return True"
   ]
  },
  {
   "cell_type": "code",
   "execution_count": 9,
   "metadata": {
    "collapsed": false
   },
   "outputs": [
    {
     "name": "stdout",
     "output_type": "stream",
     "text": [
      "1 → 2 → 3 → 4 → 3 → 2 → 1\n"
     ]
    },
    {
     "data": {
      "text/plain": [
       "True"
      ]
     },
     "execution_count": 9,
     "metadata": {},
     "output_type": "execute_result"
    }
   ],
   "source": [
    "head=gen_ListNode([1,2,3,4,3,2,1])\n",
    "show_List(head)\n",
    "s=Solution()\n",
    "s.isPalindrome(head)"
   ]
  },
  {
   "cell_type": "markdown",
   "metadata": {},
   "source": [
    "### Submission Result:\n",
    "Status: Accepted  \n",
    "Runtime: 160 ms  \n",
    "Ranking: beats 35.55% "
   ]
  }
 ],
 "metadata": {
  "kernelspec": {
   "display_name": "Python 2",
   "language": "python",
   "name": "python2"
  },
  "language_info": {
   "codemirror_mode": {
    "name": "ipython",
    "version": 2
   },
   "file_extension": ".py",
   "mimetype": "text/x-python",
   "name": "python",
   "nbconvert_exporter": "python",
   "pygments_lexer": "ipython2",
   "version": "2.7.10"
  }
 },
 "nbformat": 4,
 "nbformat_minor": 0
}
