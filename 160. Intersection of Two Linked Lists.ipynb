{
 "cells": [
  {
   "cell_type": "markdown",
   "metadata": {},
   "source": [
    "# 160. Intersection of Two Linked Lists\n",
    "[Leetcode link for this question](https://leetcode.com/problems/intersection-of-two-linked-lists/)\n",
    "## Discription: \n",
    "Write a program to find the node at which the intersection of two singly linked lists begins.\n",
    "\n",
    "\n",
    "For example, the following two linked lists:\n",
    "\n",
    "A: &emsp;&emsp;   a1 → a2  \n",
    "&emsp;&emsp;&emsp;&emsp;&emsp;&emsp;&emsp;↘  \n",
    "&emsp;&emsp;&emsp;&emsp;&emsp;&emsp;&emsp;&emsp;c1 → c2 → c3  \n",
    "&emsp;&emsp;&emsp;&emsp;&emsp;&emsp;  &emsp; ↗            \n",
    "B:     b1 → b2 → b3  \n",
    "begin to intersect at node c1.\n",
    "\n",
    "\n",
    "Notes:\n",
    "\n",
    "- If the two linked lists have no intersection at all, return null.  \n",
    "- The linked lists must retain their original structure after the function returns.  \n",
    "- You may assume there are no cycles anywhere in the entire linked structure.  \n",
    "- Your code should preferably run in O(n) time and use only O(1) memory.  \n",
    "## Analyze:\n"
   ]
  },
  {
   "cell_type": "code",
   "execution_count": 1,
   "metadata": {
    "collapsed": true
   },
   "outputs": [],
   "source": [
    "#Definition for singly-linked list.\n",
    "class ListNode(object):\n",
    "    def __init__(self, x):\n",
    "        self.val = x\n",
    "        self.next = None"
   ]
  },
  {
   "cell_type": "code",
   "execution_count": null,
   "metadata": {
    "collapsed": true
   },
   "outputs": [],
   "source": []
  },
  {
   "cell_type": "markdown",
   "metadata": {},
   "source": [
    "## Code 1:"
   ]
  },
  {
   "cell_type": "code",
   "execution_count": 2,
   "metadata": {
    "collapsed": true
   },
   "outputs": [],
   "source": [
    "class Solution(object):\n",
    "    def getIntersectionNode(self, headA, headB):\n",
    "        \"\"\"\n",
    "        :type head1, head1: ListNode\n",
    "        :rtype: ListNode\n",
    "        \"\"\"\n",
    "        if not headA or not headB:\n",
    "            return None\n",
    "        pa,pb=headA,headB\n",
    "        while pa is not pb:\n",
    "            if pa:\n",
    "                pa=pa.next\n",
    "            else:\n",
    "                pa=headB\n",
    "            if pb:\n",
    "                pb=pb.next\n",
    "            else:\n",
    "                pb=headA\n",
    "        return pa"
   ]
  },
  {
   "cell_type": "markdown",
   "metadata": {},
   "source": [
    "### Submission Result:\n",
    "Status: Accepted  \n",
    "Runtime: 420 ms  \n",
    "Ranking: beats 25.27% "
   ]
  }
 ],
 "metadata": {
  "kernelspec": {
   "display_name": "Python 2",
   "language": "python",
   "name": "python2"
  },
  "language_info": {
   "codemirror_mode": {
    "name": "ipython",
    "version": 2
   },
   "file_extension": ".py",
   "mimetype": "text/x-python",
   "name": "python",
   "nbconvert_exporter": "python",
   "pygments_lexer": "ipython2",
   "version": "2.7.10"
  }
 },
 "nbformat": 4,
 "nbformat_minor": 0
}
